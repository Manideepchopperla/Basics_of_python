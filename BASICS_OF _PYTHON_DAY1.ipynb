{
 "cells": [
  {
   "cell_type": "code",
   "execution_count": null,
   "id": "9773ac68",
   "metadata": {},
   "outputs": [],
   "source": []
  },
  {
   "cell_type": "markdown",
   "id": "8e0e03fb",
   "metadata": {},
   "source": [
    "# printing hello world"
   ]
  },
  {
   "cell_type": "code",
   "execution_count": 4,
   "id": "7d768b43",
   "metadata": {},
   "outputs": [
    {
     "name": "stdout",
     "output_type": "stream",
     "text": [
      "hello world\n"
     ]
    }
   ],
   "source": [
    "print(\"hello world\")"
   ]
  },
  {
   "cell_type": "code",
   "execution_count": 5,
   "id": "45fc9a85",
   "metadata": {},
   "outputs": [
    {
     "name": "stdout",
     "output_type": "stream",
     "text": [
      "10\n"
     ]
    }
   ],
   "source": [
    "print(10)"
   ]
  },
  {
   "cell_type": "code",
   "execution_count": 6,
   "id": "7009ed26",
   "metadata": {},
   "outputs": [
    {
     "name": "stdout",
     "output_type": "stream",
     "text": [
      "Manideep\n"
     ]
    }
   ],
   "source": [
    "print(\"Manideep\")"
   ]
  },
  {
   "cell_type": "code",
   "execution_count": 9,
   "id": "575b5718",
   "metadata": {},
   "outputs": [
    {
     "name": "stdout",
     "output_type": "stream",
     "text": [
      "Python\n"
     ]
    }
   ],
   "source": [
    "print(\"Python\")"
   ]
  },
  {
   "cell_type": "markdown",
   "id": "037309eb",
   "metadata": {},
   "source": [
    "### DataTypes"
   ]
  },
  {
   "cell_type": "code",
   "execution_count": 10,
   "id": "21098dbd",
   "metadata": {},
   "outputs": [
    {
     "data": {
      "text/plain": [
       "10"
      ]
     },
     "execution_count": 10,
     "metadata": {},
     "output_type": "execute_result"
    }
   ],
   "source": [
    "x=10\n",
    "x"
   ]
  },
  {
   "cell_type": "code",
   "execution_count": 11,
   "id": "0665c23e",
   "metadata": {},
   "outputs": [
    {
     "data": {
      "text/plain": [
       "int"
      ]
     },
     "execution_count": 11,
     "metadata": {},
     "output_type": "execute_result"
    }
   ],
   "source": [
    "type(x)"
   ]
  },
  {
   "cell_type": "code",
   "execution_count": 12,
   "id": "39b79126",
   "metadata": {},
   "outputs": [],
   "source": [
    "a=\"hello\""
   ]
  },
  {
   "cell_type": "code",
   "execution_count": 13,
   "id": "ec844bf2",
   "metadata": {},
   "outputs": [
    {
     "data": {
      "text/plain": [
       "str"
      ]
     },
     "execution_count": 13,
     "metadata": {},
     "output_type": "execute_result"
    }
   ],
   "source": [
    "a\n",
    "type(a)"
   ]
  },
  {
   "cell_type": "code",
   "execution_count": 14,
   "id": "48de6f42",
   "metadata": {},
   "outputs": [
    {
     "data": {
      "text/plain": [
       "bool"
      ]
     },
     "execution_count": 14,
     "metadata": {},
     "output_type": "execute_result"
    }
   ],
   "source": [
    "a=True\n",
    "a\n",
    "type(a)"
   ]
  },
  {
   "cell_type": "code",
   "execution_count": 15,
   "id": "09786949",
   "metadata": {},
   "outputs": [
    {
     "data": {
      "text/plain": [
       "True"
      ]
     },
     "execution_count": 15,
     "metadata": {},
     "output_type": "execute_result"
    }
   ],
   "source": [
    "a"
   ]
  },
  {
   "cell_type": "code",
   "execution_count": 16,
   "id": "d2149fce",
   "metadata": {},
   "outputs": [
    {
     "data": {
      "text/plain": [
       "9.0"
      ]
     },
     "execution_count": 16,
     "metadata": {},
     "output_type": "execute_result"
    }
   ],
   "source": [
    "a=9.0\n",
    "a"
   ]
  },
  {
   "cell_type": "code",
   "execution_count": 17,
   "id": "029459c3",
   "metadata": {},
   "outputs": [
    {
     "data": {
      "text/plain": [
       "float"
      ]
     },
     "execution_count": 17,
     "metadata": {},
     "output_type": "execute_result"
    }
   ],
   "source": [
    "type(a)"
   ]
  },
  {
   "cell_type": "markdown",
   "id": "2a3acef8",
   "metadata": {},
   "source": [
    "### Rule for naming variables"
   ]
  },
  {
   "cell_type": "markdown",
   "id": "46f4d1e0",
   "metadata": {},
   "source": [
    "##### spaces are not allowed\n",
    "##### only spl character underscore is allowed\n",
    "##### variable should not start with numbers\n",
    "##### variable should start with A-Z,a-z and underscore\n",
    "##### variable should not start with keywords\n"
   ]
  },
  {
   "cell_type": "markdown",
   "id": "2f5d0842",
   "metadata": {},
   "source": [
    "### DataStructures"
   ]
  },
  {
   "cell_type": "markdown",
   "id": "4c9df94e",
   "metadata": {},
   "source": [
    "#### Lists\n",
    "##### square brackets\n",
    "##### we can retrieve elements using index and index starts from 0\n",
    "##### Mutable -> we can make the changes in the list"
   ]
  },
  {
   "cell_type": "code",
   "execution_count": 12,
   "id": "968b6054",
   "metadata": {},
   "outputs": [
    {
     "data": {
      "text/plain": [
       "[10, 32, 12, 34, 23, 'hi']"
      ]
     },
     "execution_count": 12,
     "metadata": {},
     "output_type": "execute_result"
    }
   ],
   "source": [
    "l=[10,32,12,34,23,'hi']\n",
    "l"
   ]
  },
  {
   "cell_type": "code",
   "execution_count": 13,
   "id": "e8ab4ac2",
   "metadata": {},
   "outputs": [
    {
     "data": {
      "text/plain": [
       "10"
      ]
     },
     "execution_count": 13,
     "metadata": {},
     "output_type": "execute_result"
    }
   ],
   "source": [
    "l[0]"
   ]
  },
  {
   "cell_type": "code",
   "execution_count": 15,
   "id": "ad44d5d4",
   "metadata": {},
   "outputs": [
    {
     "name": "stdout",
     "output_type": "stream",
     "text": [
      "10\n"
     ]
    },
    {
     "data": {
      "text/plain": [
       "[100, 32, 12, 34, 23, 'hi']"
      ]
     },
     "execution_count": 15,
     "metadata": {},
     "output_type": "execute_result"
    }
   ],
   "source": [
    "print(l[0])\n",
    "l[0]=100\n",
    "l"
   ]
  },
  {
   "cell_type": "markdown",
   "id": "326d42e3",
   "metadata": {},
   "source": [
    "#### Tuples\n",
    "##### Parantesis\n",
    "##### we can retrieve elements using index and index starts from 0\n",
    "##### Immutable -> we can't make the changes in the list"
   ]
  },
  {
   "cell_type": "code",
   "execution_count": 16,
   "id": "396d8fbe",
   "metadata": {},
   "outputs": [
    {
     "data": {
      "text/plain": [
       "(1, 2, 3.5, 'hello')"
      ]
     },
     "execution_count": 16,
     "metadata": {},
     "output_type": "execute_result"
    }
   ],
   "source": [
    "tuple=(1,2,3.5,\"hello\")\n",
    "tuple"
   ]
  },
  {
   "cell_type": "code",
   "execution_count": 17,
   "id": "d5bbd5a8",
   "metadata": {},
   "outputs": [
    {
     "data": {
      "text/plain": [
       "3.5"
      ]
     },
     "execution_count": 17,
     "metadata": {},
     "output_type": "execute_result"
    }
   ],
   "source": [
    "tuple[2]\n"
   ]
  },
  {
   "cell_type": "code",
   "execution_count": 18,
   "id": "243e0101",
   "metadata": {},
   "outputs": [
    {
     "ename": "TypeError",
     "evalue": "'tuple' object does not support item assignment",
     "output_type": "error",
     "traceback": [
      "\u001b[0;31m---------------------------------------------------------------------------\u001b[0m",
      "\u001b[0;31mTypeError\u001b[0m                                 Traceback (most recent call last)",
      "Cell \u001b[0;32mIn[18], line 1\u001b[0m\n\u001b[0;32m----> 1\u001b[0m \u001b[38;5;28mtuple\u001b[39m[\u001b[38;5;241m2\u001b[39m]\u001b[38;5;241m=\u001b[39m\u001b[38;5;241m3\u001b[39m\n",
      "\u001b[0;31mTypeError\u001b[0m: 'tuple' object does not support item assignment"
     ]
    }
   ],
   "source": [
    "tuple[2]=3"
   ]
  },
  {
   "cell_type": "markdown",
   "id": "3276df7f",
   "metadata": {},
   "source": [
    "#### Sets\n",
    "##### Flower brackets\n",
    "##### we can't retrieve elements using index and index starts from 0\n",
    "##### Mutable -> we can make the changes in the list\n",
    "##### no duplicates are allowed \n",
    "##### "
   ]
  },
  {
   "cell_type": "code",
   "execution_count": 19,
   "id": "e309c763",
   "metadata": {},
   "outputs": [
    {
     "data": {
      "text/plain": [
       "{1, 2, 3.4, 3.5, 6, 'apple', 'hi'}"
      ]
     },
     "execution_count": 19,
     "metadata": {},
     "output_type": "execute_result"
    }
   ],
   "source": [
    "set={1,2,3.4,6,1,3.5,\"apple\",\"hi\"}\n",
    "set"
   ]
  },
  {
   "cell_type": "code",
   "execution_count": 20,
   "id": "53c1b0de",
   "metadata": {},
   "outputs": [
    {
     "ename": "TypeError",
     "evalue": "'set' object is not subscriptable",
     "output_type": "error",
     "traceback": [
      "\u001b[0;31m---------------------------------------------------------------------------\u001b[0m",
      "\u001b[0;31mTypeError\u001b[0m                                 Traceback (most recent call last)",
      "Cell \u001b[0;32mIn[20], line 1\u001b[0m\n\u001b[0;32m----> 1\u001b[0m \u001b[38;5;28mset\u001b[39m[\u001b[38;5;241m0\u001b[39m]\n",
      "\u001b[0;31mTypeError\u001b[0m: 'set' object is not subscriptable"
     ]
    }
   ],
   "source": [
    "set[0]"
   ]
  },
  {
   "cell_type": "code",
   "execution_count": 21,
   "id": "882bd072",
   "metadata": {},
   "outputs": [],
   "source": [
    "set.add(100)"
   ]
  },
  {
   "cell_type": "code",
   "execution_count": 22,
   "id": "e4450755",
   "metadata": {},
   "outputs": [
    {
     "data": {
      "text/plain": [
       "{1, 100, 2, 3.4, 3.5, 6, 'apple', 'hi'}"
      ]
     },
     "execution_count": 22,
     "metadata": {},
     "output_type": "execute_result"
    }
   ],
   "source": [
    "set"
   ]
  },
  {
   "cell_type": "code",
   "execution_count": 23,
   "id": "9b1256ba",
   "metadata": {},
   "outputs": [],
   "source": [
    "set.remove(1)"
   ]
  },
  {
   "cell_type": "code",
   "execution_count": 24,
   "id": "3968a7c3",
   "metadata": {},
   "outputs": [
    {
     "data": {
      "text/plain": [
       "{100, 2, 3.4, 3.5, 6, 'apple', 'hi'}"
      ]
     },
     "execution_count": 24,
     "metadata": {},
     "output_type": "execute_result"
    }
   ],
   "source": [
    "set"
   ]
  },
  {
   "cell_type": "markdown",
   "id": "9412ce80",
   "metadata": {},
   "source": [
    "### Dictionary\n",
    "##### Has key-value pair data structure\n",
    "##### key is unique\n",
    "##### Values can be duplicated\n",
    "##### values can be retrieved using key\n",
    "##### Key can't be retrieved using value"
   ]
  },
  {
   "cell_type": "code",
   "execution_count": 25,
   "id": "8647fbe4",
   "metadata": {},
   "outputs": [
    {
     "data": {
      "text/plain": [
       "{1: 'apple', 2: 'hey', 3: 3.51, 4: 3.51}"
      ]
     },
     "execution_count": 25,
     "metadata": {},
     "output_type": "execute_result"
    }
   ],
   "source": [
    "dict={1:\"apple\",2:3.51,3:3.51,4:3.51,2:\"hey\"}\n",
    "dict"
   ]
  },
  {
   "cell_type": "code",
   "execution_count": 26,
   "id": "3037a984",
   "metadata": {},
   "outputs": [
    {
     "data": {
      "text/plain": [
       "'hey'"
      ]
     },
     "execution_count": 26,
     "metadata": {},
     "output_type": "execute_result"
    }
   ],
   "source": [
    "dict[2]"
   ]
  },
  {
   "cell_type": "code",
   "execution_count": 27,
   "id": "bbb6de64",
   "metadata": {},
   "outputs": [
    {
     "data": {
      "text/plain": [
       "{1: 'apple', 2: 'hey', 3: 3.51, 4: 3.51, 5: 'hi'}"
      ]
     },
     "execution_count": 27,
     "metadata": {},
     "output_type": "execute_result"
    }
   ],
   "source": [
    "dict[5]=\"hi\"\n",
    "dict"
   ]
  },
  {
   "cell_type": "code",
   "execution_count": 28,
   "id": "a2aca77c",
   "metadata": {},
   "outputs": [
    {
     "data": {
      "text/plain": [
       "{1: 'apple', 2: 'hello', 3: 3.51, 4: 3.51, 5: 'hi'}"
      ]
     },
     "execution_count": 28,
     "metadata": {},
     "output_type": "execute_result"
    }
   ],
   "source": [
    "dict[2]=\"hello\"\n",
    "dict\n"
   ]
  },
  {
   "cell_type": "code",
   "execution_count": null,
   "id": "0854f906",
   "metadata": {},
   "outputs": [],
   "source": []
  }
 ],
 "metadata": {
  "kernelspec": {
   "display_name": "Python 3 (ipykernel)",
   "language": "python",
   "name": "python3"
  },
  "language_info": {
   "codemirror_mode": {
    "name": "ipython",
    "version": 3
   },
   "file_extension": ".py",
   "mimetype": "text/x-python",
   "name": "python",
   "nbconvert_exporter": "python",
   "pygments_lexer": "ipython3",
   "version": "3.11.4"
  }
 },
 "nbformat": 4,
 "nbformat_minor": 5
}
